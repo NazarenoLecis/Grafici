# Mappa Europa – Tasso occupazione femminile 20–64, ultimo anno
# Requisiti: pip install requests pandas pyjstat geopandas matplotlib

import re
import requests
import pandas as pd
import geopandas as gpd
import matplotlib.pyplot as plt
from pyjstat import pyjstat

API_URL  = "https://ec.europa.eu/eurostat/api/dissemination/sdmx/2.1/data/lfsi_emp_a"
GISCO_URL = "https://gisco-services.ec.europa.eu/distribution/v2/countries/geojson/CNTR_RG_20M_2024_4326.geojson"

# --------- 1) Eurostat: Females 20–64, unità percentuale, ultimo anno ----------
params = {
    "format": "JSON",
    "startPeriod": "2015",
    "sex": "F",
    "age": "Y20-64"
}
r = requests.get(API_URL, params=params, timeout=90)
r.raise_for_status()
tables = pyjstat.from_json_stat(r.json())
if not tables:
    raise RuntimeError("Nessuna tabella dall'API Eurostat.")
df = tables[0].rename(columns=str)

col_indicator = "Employment indicator"
col_unit      = "Unit of measure"
col_geo       = "Geopolitical entity (reporting)"
col_time      = "Time"
col_value     = "value"

def ci(s, pat):
    return bool(re.search(pat, s or "", re.IGNORECASE))

# Indicatore (concetto LFS) + unità in percentuale
mask_indicator = df[col_indicator].apply(
    lambda s: ci(s, r"Total employment\s*\(resident population concept\s*-\s*LFS\)") or ci(s, r"\bEmployment rate\b")
)
mask_unit = df[col_unit].apply(lambda s: ci(s, r"percent|%"))
df = df[mask_indicator & mask_unit].copy()
if df.empty:
    raise RuntimeError("Filtro vuoto: indicatore/percentuale non trovati.")

# Ultimo anno disponibile
def to_year(x):
    s = str(x)
    return int(s[:4]) if s[:4].isdigit() else None

df["year"] = df[col_time].map(to_year)
last_year = int(df["year"].dropna().max())

# Tieni solo ultimo anno
dfy = df[df["year"] == last_year][[col_geo, col_value]].copy()
dfy = dfy.rename(columns={col_geo: "geo_name", col_value: "female_emp_rate_20_64"})
dfy["female_emp_rate_20_64"] = pd.to_numeric(dfy["female_emp_rate_20_64"], errors="coerce")

# Rimuovi aggregati (UE/Area euro)
AGG_PATTERNS = [r"European Union", r"Euro area", r"countries\s*\(from"]
dfy = dfy[~dfy["geo_name"].apply(lambda s: any(re.search(p, s) for p in AGG_PATTERNS))].copy()

# --------- 2) GISCO: carica e join per nome (lascia la Turchia ma non colorarla) ----------
gdf = gpd.read_file(GISCO_URL)
if "NAME_ENGL" not in gdf.columns:
    raise RuntimeError(f"Colonna 'NAME_ENGL' non trovata in GISCO. Colonne: {list(gdf.columns)}")

merged = gdf[["NAME_ENGL", "geometry"]].merge(
    dfy, left_on="NAME_ENGL", right_on="geo_name", how="left"
)

# Non colorare la Turchia (lascia NaN)
merged.loc[merged["NAME_ENGL"].isin(["Turkey", "Türkiye"]), "female_emp_rate_20_64"] = None

# --------- 3) Plot: zoom Europa + cmap 'inferno' (scura→giallo) ----------
plt.figure(figsize=(9, 7))
ax = merged.plot(
    column="female_emp_rate_20_64",
    cmap="inferno",          # sequenziale scura→chiara fino al giallo
    legend=True,
    edgecolor="black",
    linewidth=0.2,
    missing_kwds={"color": "lightgrey", "label": "Nessun dato"}
)

# Limiti Europa
ax.set_xlim(-25, 45)
ax.set_ylim(33, 72)
ax.set_axis_off()

# Titolo pulito
plt.title(f"Tasso di occupazione femminile (20–64), {last_year}", pad=12)

# Fonte e credit in basso
plt.figtext(
    0.01, 0.01,
    "Fonte: Eurostat — Elaborazione: Nazareno Lecis",
    ha="left", va="bottom"
)

plt.tight_layout()
plt.show()

# # Opzionale: salvataggio
# plt.savefig(f"female_emp_rate_{last_year}_EUROPE_TR_grey_inferno.png", dpi=300, bbox_inches="tight")
